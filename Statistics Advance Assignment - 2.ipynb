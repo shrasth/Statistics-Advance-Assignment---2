{
 "cells": [
  {
   "cell_type": "markdown",
   "id": "efdbdaa4-edaa-4e06-ae84-df60c5d27925",
   "metadata": {},
   "source": [
    "### Q1: What are the Probability Mass Function (PMF) and Probability Density Function (PDF)? Explain with an example."
   ]
  },
  {
   "cell_type": "markdown",
   "id": "295908cb-92f1-4b2b-896f-526d276e78c1",
   "metadata": {},
   "source": [
    "**Probability Mass Function (PMF)**:\n",
    "\n",
    "The PMF is a function that gives the probability of a discrete random variable taking on a specific value.\n",
    "\n",
    "Mathematically, the PMF is defined as follows:\n",
    "P(X = x) = P(X takes the value x)\n",
    "\n",
    "The PMF must satisfy two conditions:\n",
    "\n",
    "1. The probability for any value x must be between 0 and 1 (0 ≤ P(X = x) ≤ 1).\n",
    "\n",
    "2. The sum of probabilities for all possible values of X must be equal to 1.\n",
    "\n",
    "Example of PMF:\n",
    "\n",
    "Let's consider a fair dice. The random variable X represents the outcome of rolling the die, and it can take values {1, 2, 3, 4, 5, 6}. Since each outcome is equally likely, the PMF for this random variable is:\n",
    "\n",
    "P(X = 1) = P(X = 2) = P(X = 3) = P(X = 4) = P(X = 5) = P(X = 6) = 1/6"
   ]
  },
  {
   "cell_type": "markdown",
   "id": "bd47e79d-f321-4750-942c-fd86b73bf5a6",
   "metadata": {},
   "source": [
    "**Probability Density Function (PDF)**:\n",
    "\n",
    "The PDF is used to describe the probability distribution of a continuous random variable. \n",
    "\n",
    "For a continuous random variable X, the PDF is denoted by f(x), and it provides the probability of the random variable falling within a certain range.\n",
    "\n",
    "Mathematically, the PDF must satisfy the following conditions:\n",
    "\n",
    "1. The probability density function f(x) is non-negative for all x (f(x) ≥ 0).\n",
    "\n",
    "2. The area under the PDF curve over the entire range of X is equal to 1.\n",
    "\n",
    "\n",
    "Example of PDF:\n",
    "\n",
    "Let's consider the height of adult males as a continuous random variable X. The PDF for this variable would describe the probability of a male's height falling within a specific range. Suppose the PDF of height follows a normal distribution with a mean of 175 cm and a standard deviation of 5 cm:\n",
    "\n",
    "f(x) = (1 / (5 * √(2π))) * e^(-0.5 * ((x - 175) / 5)^2)\n",
    "\n",
    "In this example, f(x) gives the probability density of a male's height being x cm."
   ]
  },
  {
   "cell_type": "markdown",
   "id": "06412c67-4abd-43bd-92b6-a3b5be29a660",
   "metadata": {},
   "source": [
    "### Q2: What is Cumulative Density Function (CDF)? Explain with an example. Why CDF is used?"
   ]
  },
  {
   "cell_type": "markdown",
   "id": "e83ecb9a-0d70-4fbc-a3c7-9a302885ecb4",
   "metadata": {},
   "source": [
    "**Cumulative Distribution Function (CDF)**:\n",
    "\n",
    "It is used to describe the probability distribution of a random variable, whether it is discrete or continuous.\n",
    "\n",
    "For a random variable X, the CDF is denoted by F(x), and it is defined as follows:\n",
    "\n",
    "F(x) = P(X ≤ x)\n",
    "\n",
    "Example of CDF:\n",
    "\n",
    "Let's consider a fair six-sided die. The random variable X represents the outcome of rolling the die, and it can take values {1, 2, 3, 4, 5, 6}. \n",
    "\n",
    "The CDF for this random variable can be calculated as follows:\n",
    "\n",
    "F(x) = P(X ≤ x)\n",
    "\n",
    "For x ≤ 1:\n",
    "F(1) = P(X ≤ 1) = P(X = 1) = 1/6\n",
    "\n",
    "For 1 < x ≤ 2:\n",
    "F(2) = P(X ≤ 2) = P(X = 1) + P(X = 2) = 1/6 + 1/6 = 1/3\n",
    "\n",
    "For 2 < x ≤ 3:\n",
    "F(3) = P(X ≤ 3) = P(X = 1) + P(X = 2) + P(X = 3) = 1/6 + 1/6 + 1/6 = 1/2\n",
    "\n",
    "Similarly, for x > 3, the probabilities keep accumulating:\n",
    "\n",
    "F(4) = P(X ≤ 4) = 1/2 + 1/6 + 1/6 + 1/6 = 5/6\n",
    "\n",
    "F(5) = P(X ≤ 5) = 1\n",
    "\n",
    "F(6) = P(X ≤ 6) = 1\n",
    "\n",
    "The CDF is used:\n",
    "\n",
    "1. The CDF provides cumulative probabilities, meaning it gives the probability of a random variable being less than or equal to a particular value. \n",
    "\n",
    "2. By using the CDF, you can easily calculate probabilities of specific ranges.\n",
    "\n",
    "3. CDFs provide a visual representation of the probability distribution of a random variable."
   ]
  },
  {
   "cell_type": "markdown",
   "id": "8c94e078-a191-44eb-bca0-f9d3b6b0c09d",
   "metadata": {},
   "source": [
    "### Q3: What are some examples of situations where the normal distribution might be used as a model? Explain how the parameters of the normal distribution relate to the shape of the distribution."
   ]
  },
  {
   "cell_type": "markdown",
   "id": "1fe43971-44bb-4d8d-8109-1fd7ae18e08b",
   "metadata": {},
   "source": [
    "The normal distribution can be used as a model in the following:\n",
    "\n",
    "1. Heights and weights\n",
    "\n",
    "2. Test scores\n",
    "\n",
    "3. IQ Scores\n",
    "\n",
    "4. Natural phenomena\n",
    "\n",
    "The normal distribution is characterized by two parameters: the mean (μ) and the standard deviation (σ). These parameters play a crucial role in shaping the distribution.\n",
    "\n",
    "Mean (μ): The mean represents the center of the distribution.\n",
    "\n",
    "Standard Deviation (σ): The standard deviation controls the spread or dispersion of the distribution."
   ]
  },
  {
   "cell_type": "markdown",
   "id": "8f44cca5-cb65-4d44-a2a0-23b2227106cb",
   "metadata": {},
   "source": [
    "### Q4: Explain the importance of Normal Distribution. Give a few real-life examples of Normal Distribution."
   ]
  },
  {
   "cell_type": "markdown",
   "id": "ec98d015-c1f9-46a8-9250-11f28989571b",
   "metadata": {},
   "source": [
    "The importance of the normal distribution can be explained as follows:\n",
    "\n",
    "1. **Central Limit Theorem**: The CLT states that the sum of a large number of independent and identically distributed random variables will approximately follow a normal distribution, regardless of the underlying distribution of the original variables. This property allows the normal distribution to emerge as a natural choice for modeling many real-world data sets.\n",
    "\n",
    "2. **Predictive Power**: The normal distribution is easy to work with mathematically, and many statistical methods are specifically designed for normally distributed data. This makes it convenient for making predictions and performing statistical inference.\n",
    "\n",
    "3. **Symmetry and Bell-Shaped Curve**: The normal distribution is symmetric around its mean, and its shape is characterized by a smooth, bell-shaped curve. \n",
    "\n",
    "Some real-life examples:\n",
    "\n",
    "1. Heights of People: The heights of a large population tend to follow a normal distribution. \n",
    "\n",
    "2. Test Scores: In standardized tests, such as the SAT or GRE, the scores of test-takers often approximate a normal distribution.\n",
    "\n",
    "3. Temperature Data: Daily temperatures, especially during certain seasons, often exhibit a normal distribution."
   ]
  },
  {
   "cell_type": "markdown",
   "id": "5bccaa30-d9ee-460d-9d54-379e874bb382",
   "metadata": {},
   "source": [
    "### Q5: What is Bernaulli Distribution? Give an Example. What is the difference between Bernoulli Distribution and Binomial Distribution?"
   ]
  },
  {
   "cell_type": "markdown",
   "id": "db4837ac-3440-4138-bc23-705f72305364",
   "metadata": {},
   "source": [
    "The Bernoulli distribution is a discrete probability distribution that models a random experiment with two possible outcomes: success and failure.\n",
    "\n",
    "\n",
    "Mathematically, the Bernoulli distribution is defined as follows:\n",
    "\n",
    "P(X = 1) = p (probability of success)\n",
    "P(X = 0) = 1 - p (probability of failure)\n",
    "\n",
    "Where:\n",
    "X = Random variable representing the outcome (1 for success, 0 for failure)\n",
    "p = Probability of success in a single trial (0 ≤ p ≤ 1)\n",
    "\n",
    "Example of Bernoulli distribution:\n",
    "\n",
    "An example of a Bernoulli experiment is flipping a fair coin. In this case, \"success\" could be defined as getting heads, and \"failure\" as getting tails. Let's say the probability of getting heads is p = 0.5 (since the coin is fair and has an equal chance of landing on heads or tails). So, in this scenario, the Bernoulli distribution for this coin flip experiment would be:\n",
    "\n",
    "\n",
    "The key difference between the Bernoulli distribution and the binomial distribution is that the Bernoulli distribution models the outcome of a single event, while the binomial distribution models the number of successes in a fixed number of independent and identical Bernoulli trials. In other words, the binomial distribution is the sum of multiple independent Bernoulli random variables.\n"
   ]
  },
  {
   "cell_type": "markdown",
   "id": "bdd817bd-2fcb-4a55-92a5-4c97dc2b1137",
   "metadata": {},
   "source": [
    "### Q6. Consider a dataset with a mean of 50 and a standard deviation of 10. If we assume that the dataset is normally distributed, what is the probability that a randomly selected observation will be greater than 60? Use the appropriate formula and show your calculations."
   ]
  },
  {
   "cell_type": "markdown",
   "id": "9558ad60-adc6-475f-b3ed-5ed8a8253134",
   "metadata": {},
   "source": [
    "We can use the z-table to solve this question.\n",
    "\n",
    "The appropriate formula to use is: z = (x - μ) / σ\n",
    "\n",
    "where x is the value of the observation you are interested in (in this case, x = 60), μ is the mean of the dataset, and σ is the standard deviation of the dataset.\n",
    "\n",
    "Substituting the values given in the question, we get: z = (60 - 50) / 10 = 1\n",
    "\n",
    "Now, we need to use the z-table to find the probability that a z-score is greater than 1.\n",
    "\n",
    "Using the z-table, we look up the probability corresponding to a z-score of 1.00 in the positive z-score column. The table tells us that the probability is 0.8413.\n",
    "\n",
    "The probabilty that we got from z-table is the probability of randomly selected number less than 60, because z-table gives us the probability of the values on the left side of 60. But we need the values on the right side (greater than 60) of 60. So we can get that probability by subtracting 0.8413 from 1 as: 1 - 0.8413 = 0.1587"
   ]
  },
  {
   "cell_type": "markdown",
   "id": "22e9944b-cc8d-4284-a600-2fcb478a4c84",
   "metadata": {},
   "source": [
    "### Q7: Explain uniform Distribution with an example."
   ]
  },
  {
   "cell_type": "markdown",
   "id": "c9cb9a73-0b20-462b-b0f8-8e857a2ec6c5",
   "metadata": {},
   "source": [
    "Uniform distribution, also known as a rectangular distribution, is a probability distribution where all possible outcomes are equally likely to occur. It is often used in statistics to model situations where each outcome is equally likely to occur, such as rolling a fair die or picking a card from a well-shuffled deck.\n",
    "\n",
    "Example:\n",
    "Rolling a fair six-sided die: When rolling the die, each face has an equal probability of showing up, which is 1/6 or approximately 0.1667. This means that any number between 1 and 6 is equally likely to be rolled, and the probability of rolling any particular number is 1/6.\n",
    "\n",
    "In the above examples, the probability density function of the uniform distribution is constant over the entire range of possible outcomes. That is, the probability of any particular outcome is proportional to the size of the range of possible outcomes."
   ]
  },
  {
   "cell_type": "markdown",
   "id": "fd50379a-7735-4e1a-889b-2847faf7eafe",
   "metadata": {},
   "source": [
    "### Q8: What is the z score? State the importance of the z score."
   ]
  },
  {
   "cell_type": "markdown",
   "id": "c8ca67be-6363-4825-a306-111ee40dcbc2",
   "metadata": {},
   "source": [
    "The z-score is a statistical measure that expresses how far a data point is from the mean of a distribution in terms of standard deviations. The formula for calculating the z-score of a data point is: z = (x - μ) / σ\n",
    "\n",
    "Where x is the data point, μ is the mean of the distribution, and σ is the standard deviation.\n",
    "\n",
    "Importance:\n",
    "\n",
    "1. The z-score is important because it allows us to standardize data from different distributions, which can then be compared and analyzed more easily. By converting data into z-scores, we can compare observations from different samples or populations and make meaningful statements about their relative positions.\n",
    "\n",
    "2. The z-score is also useful in hypothesis testing, where it is used to calculate the probability of observing a value as extreme as the one observed, assuming a certain null hypothesis.\n"
   ]
  },
  {
   "cell_type": "markdown",
   "id": "b03ca4d8-a725-4abc-9517-b4d820604b16",
   "metadata": {},
   "source": [
    "### Q9: What is Central Limit Theorem? State the significance of the Central Limit Theorem."
   ]
  },
  {
   "cell_type": "markdown",
   "id": "af97c8e5-b576-4fa4-924f-d5a463cb7c56",
   "metadata": {},
   "source": [
    "The Central Limit Theorem (CLT) is a fundamental result in probability theory and statistics that describes the behavior of the sum or average of a large number of independent and identically distributed random variables. It states that, under certain conditions, the sum or average of such variables will converge to a normal distribution, regardless of the distribution of the individual variables.\n",
    "\n",
    "The significance of the CLT is that it provides a theoretical foundation for many statistical techniques that assume normally distributed data. For example, many hypothesis tests and confidence intervals rely on the assumption of normality, which is often justified by the CLT.\n",
    "\n",
    "Additionally, the CLT is important in practical applications such as quality control, where it is often necessary to estimate the mean and variance of a population based on a sample."
   ]
  },
  {
   "cell_type": "markdown",
   "id": "3af4786f-0319-4e0a-879a-dbb22533fd86",
   "metadata": {},
   "source": [
    "### Q10: State the assumptions of the Central Limit Theorem."
   ]
  },
  {
   "cell_type": "markdown",
   "id": "4110e80c-3fcf-495c-9377-9a1e4c9df52f",
   "metadata": {},
   "source": [
    "The assumptions of the Central Limit Theorem are:\n",
    "\n",
    "1. Independence: The observations in the sample are independent of each other, meaning that the outcome of one observation does not influence the outcome of another observation.\n",
    "    \n",
    "2. Sample size: The sample size is sufficiently large. The larger the sample size, the better the approximation to the normal distribution.\n",
    "    \n",
    "3. Identically distributed: The sample data comes from a population that has a well-defined mean and variance. The observations in the sample are identically distributed, meaning that they come from the same population.\n",
    "\n",
    "4. Finite variance: The population has a finite variance. This assumption ensures that the sample variance is also finite.\n",
    "\n",
    "5. Non-skewed population distribution: The population distribution is not strongly skewed. A strongly skewed population distribution can affect the validity of the Central Limit Theorem, and a larger sample size may be required to approximate a normal distribution.\n"
   ]
  }
 ],
 "metadata": {
  "kernelspec": {
   "display_name": "Python 3 (ipykernel)",
   "language": "python",
   "name": "python3"
  },
  "language_info": {
   "codemirror_mode": {
    "name": "ipython",
    "version": 3
   },
   "file_extension": ".py",
   "mimetype": "text/x-python",
   "name": "python",
   "nbconvert_exporter": "python",
   "pygments_lexer": "ipython3",
   "version": "3.10.8"
  }
 },
 "nbformat": 4,
 "nbformat_minor": 5
}
